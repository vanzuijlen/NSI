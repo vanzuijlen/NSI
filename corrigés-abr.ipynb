{
 "cells": [
  {
   "cell_type": "markdown",
   "metadata": {},
   "source": [
    "# Arbre binaire de recherche"
   ]
  },
  {
   "cell_type": "markdown",
   "metadata": {},
   "source": [
    "## corrigés"
   ]
  },
  {
   "cell_type": "markdown",
   "metadata": {},
   "source": [
    "## La classe"
   ]
  },
  {
   "cell_type": "code",
   "execution_count": 2,
   "metadata": {},
   "outputs": [],
   "source": [
    "# =============================================================================\n",
    "#                                       La classe\n",
    "# =============================================================================\n",
    " \n",
    "class Noeud:\n",
    "\n",
    "    # Le constructeur\n",
    "    def __init__(self, value, left=None, right=None):\n",
    "        self.value = value\n",
    "        self.left = left\n",
    "        self.right = right\n",
    "        self.parent = None\n",
    "\n",
    "\n",
    "    # Méthode qui permet d'afficher la valeur\n",
    "    # de la racine avec la fonction print\n",
    "    def __str__(self):\n",
    "        return str(self.value)\n",
    "\n",
    "    def estFeuille(self):\n",
    "        if not self.left and not self.right:\n",
    "            return True\n",
    "        else:\n",
    "            return False\n",
    "\n",
    "    def insert(self, valeur):\n",
    "        if valeur < self.value:\n",
    "            if self.left is None:\n",
    "                self.left = Noeud(valeur)\n",
    "                self.left.parent = self\n",
    "            else:\n",
    "                self.left.insert(valeur)\n",
    "        elif valeur > self.value:\n",
    "            if self.right is None:\n",
    "                self.right = Noeud(valeur)\n",
    "                self.right.parent = self\n",
    "            else:\n",
    "                self.right.insert(valeur)\n",
    "\n",
    "    def parcours_infixe(self):\n",
    "        if self:\n",
    "            if self.left:\n",
    "                self.left.parcours_infixe()\n",
    "            print(self.value,end=' ')\n",
    "            if self.right:\n",
    "                self.right.parcours_infixe()\n",
    "\n",
    "\n",
    "\n",
    "    def parcours_prefixe(self):\n",
    "        if self:\n",
    "            print(self.value,end=' ')\n",
    "            if self.left:\n",
    "                self.left.parcours_prefixe()\n",
    "            if self.right:\n",
    "                self.right.parcours_prefixe()\n",
    "\n",
    "\n",
    "\n",
    "    def parcours_suffixe(self):\n",
    "        if self:\n",
    "            if self.left:\n",
    "                self.left.parcours_suffixe()\n",
    "            if self.right:\n",
    "                self.right.parcours_suffixe()\n",
    "            print(self.value,end=' ')\n"
   ]
  },
  {
   "cell_type": "markdown",
   "metadata": {},
   "source": [
    "### La fonction insertion"
   ]
  },
  {
   "cell_type": "code",
   "execution_count": 3,
   "metadata": {},
   "outputs": [],
   "source": [
    "def insertion(arbre,val):\n",
    "    if val<arbre.value:\n",
    "        if arbre.left==None:\n",
    "            arbre.left=Noeud(val)\n",
    "            arbre.parent=arbre\n",
    "        else:\n",
    "            insertion(arbre.left,val)\n",
    "    elif val>arbre.value:\n",
    "        if arbre.right==None:\n",
    "            arbre.right=Noeud(val)\n",
    "            arbre.parent=arbre\n",
    "        else:\n",
    "            insertion(arbre.right,val)"
   ]
  },
  {
   "cell_type": "markdown",
   "metadata": {},
   "source": [
    "l'algorithme à écrire"
   ]
  },
  {
   "cell_type": "markdown",
   "metadata": {},
   "source": [
    "## l'affichage"
   ]
  },
  {
   "cell_type": "code",
   "execution_count": 4,
   "metadata": {},
   "outputs": [],
   "source": [
    "from tkinter import *\n",
    "from math import *\n",
    "\n",
    "\n",
    "# =============================================================================\n",
    "#                               Représentation graphique\n",
    "# =============================================================================\n",
    "\n",
    "\n",
    "# ------------------- cercle-------------------#\n",
    "def cercle(canv,x,y,r,col,colf):\n",
    "    \"\"\"dessine un cercle graphique sur le canvas de centre (x,y) de rayon r de\n",
    "    couleur col et de couleur de fond colf\"\"\"\n",
    "    canv.create_oval(x-r,y-r,x+r,y+r,outline=col, fill=colf)\n",
    "# ------------------- dessinenoeud-------------------#\n",
    "def dessinenoeud(canv,x,y,r,noeud):\n",
    "    \"\"\" dessine un noeud graphique : un cercle rempli avec un texte la dedans la valeur du noeud\"\"\"\n",
    "    cercle(canv,x,y,r,\"black\",\"white\")\n",
    "    canv.create_text(x,y,text=noeud.value,fill=\"black\")\n",
    "# ------------------- centresuivant-------------------#\n",
    "def centresuivant(x,y,r,m,dir):\n",
    "    \"\"\" calcule la position de noeud suivant :\n",
    "        on calcule a et b les décalages par rapport a la position actuelle x,y\n",
    "        dir permet de spécifier:\n",
    "        si c'est un fils gauche on retranche le a\n",
    "        si c'est un fils droit  on ajoute le a  à  x\n",
    "        pour y on ajoute toujours b dans les deux cas.\n",
    "        le m est la distance entre les cercles : le noeud et ses descedants.\n",
    "         \"\"\"\n",
    "    a=(2*r+m)*sin(pi/4)     # calcule le décalage sur l'axe des x : coordonnées polaire vers\n",
    "                            # cordonnées cartesiennes\n",
    "    b=(2*r+m)*cos(pi/4)     # de même pour le décalage sur y l'angle d'ouverture est 45 °\n",
    "    if dir==\"l\":            # dir pour left ou right cad fils gauche ou fils droit\n",
    "        x1,y1=x-a,y+b       # on décale vers la gauche donc on retranche a de x et\n",
    "                            # on ajoute b a y on descend vers le bas\n",
    "    else:\n",
    "        x1,y1=x+a,y+b       # on décale vers la droite donc on ajoute a de x\n",
    "    return x1,y1\n",
    "# ------------------- tracearbre-------------------#\n",
    "def tracearbre(canv,x,y,r,m,noeud):\n",
    "    \"\"\" tracé l'arbre graphique récursivement\"\"\"\n",
    "    pas=25                          \t\t\t # ce pas change: permettant de reduire la distance entre les noeuds\n",
    "                                   \t\t\t # autrement on aura des noeuds qui se superposent\n",
    "\n",
    "    if noeud.estFeuille()==False:    \t\t\t # si le noeud n'est pas une feuille\n",
    "        if noeud.right==None and noeud.left!=None :  \t # si il a un fils gauche mais pas de fils droit\n",
    "            x1,y1=centresuivant(x,y,r,m,\"l\")         \t # récupération de la position du noeud fils\n",
    "            canv.create_line(x,y,x1,y1,fill=\"black\") \t # tracé d'une droite entre x,y et x1,y1\n",
    "                                                        # cette fonction est dans la bibilothèque tkinter\n",
    "            tracearbre(canv,x1,y1,r,m-pas,noeud.left)   # appel récursif pour traiter ce fils\n",
    "        elif noeud.right!=None and  noeud.left==None :  # si il a un fils droit mais pas de fils gauche\n",
    "            x1,y1=centresuivant(x,y,r,m,\"r\")            # récupération de la position du noeud fils\n",
    "            canv.create_line(x,y,x1,y1,fill=\"black\")    # tracé d'une droite entre x,y et x1,y1\n",
    "            tracearbre(canv,x1,y1,r,m-pas,noeud.right)  # appel récursif pour traiter ce fils\n",
    "        else:                                           # si il a un fils gauche et un fils droit\n",
    "            x1,y1=centresuivant(x,y,r,m,\"l\")            # récupération de la position du noeud fils gauche\n",
    "            canv.create_line(x,y,x1,y1,fill=\"black\")    # tracé d'une droite entre x,y et x1,y1\n",
    "            tracearbre(canv,x1,y1,r,m-pas,noeud.left)   # appel récursif pour traiter ce fils gauche\n",
    "            x1,y1=centresuivant(x,y,r,m,\"r\")            # récupération de la position du noeud fils droit\n",
    "            canv.create_line(x,y,x1,y1,fill=\"black\")    # tracé d'une droite entre x,y et x1,y1\n",
    "            tracearbre(canv,x1,y1,r,m-pas,noeud.right)  # appel récursif pour traiter ce fils droit\n",
    "    dessinenoeud(canv,x,y,r,noeud)                      # tracé du noeud courant\n",
    "\n",
    "# ------------------- graphicarbre-------------------#\n",
    "def graphicarbre(noeud):\n",
    "    \"\"\" fonction de tracé graphique d'un arbre \"\"\"\n",
    "    cwidth=650              \t\t\t\t# la largeur du canvas graphique\n",
    "    cheight=400             \t\t\t\t# la hauteur du canvas\n",
    "    couleurs=[\"red\",\"green\",\"bleu\",\"white\",\"black\",\"cyan\",\"magenta\",\"yellow\"]\n",
    "    # fen est l'objet fenetre herité de la bibliotheque tkinter\n",
    "    fen=Tk()\n",
    "        # création d'un bouton avec la commande fermer(quit) attachÃ© Ã  la fenetre\n",
    "    btn=Button(fen, text=\"Quitter\",command=fen.destroy)\n",
    "        # placement du bouton en bas de la fenetre\n",
    "    btn.pack(side=\"bottom\")\n",
    "    #création d'un panneau dans lequel on affichera l'arbre\n",
    "    pan=LabelFrame(fen)\n",
    "    # placement de ce panneau en faut de la fenetre\n",
    "    pan.pack(side=\"top\")\n",
    "    # création du canva graphique dans ce panneau\n",
    "    canv=Canvas(pan,width=cwidth,height=cheight)\n",
    "    #placement de ce canvas en haut du panneau graphique\n",
    "    canv.pack(side=\"top\")\n",
    "    #appel de la fonction de tracé graphique de l'arbre créer ci haut\n",
    "    tracearbre(canv,cwidth//2,100,12,90,noeud)\n",
    "    # actualisation de l'affichage graphique\n",
    "    fen.mainloop()"
   ]
  },
  {
   "cell_type": "markdown",
   "metadata": {},
   "source": [
    "## Création de l'arbre et test de l'affichage"
   ]
  },
  {
   "cell_type": "code",
   "execution_count": 5,
   "metadata": {},
   "outputs": [],
   "source": [
    "# avec la méthode de classe\n",
    "bst = Noeud(6)\n",
    "bst.insert(8)\n",
    "bst.insert(3)\n",
    "bst.insert(1)\n",
    "bst.insert(4)\n",
    "bst.insert(9)\n",
    "bst.insert(2)\n",
    "bst.insert(7)\n",
    "bst.insert(5)\n",
    "graphicarbre(bst)\n",
    "\n",
    "# avec la fonction insertion\n",
    "\n",
    "\n",
    "# bst=Noeud(6)\n",
    "# insertion(bst,8)\n",
    "# insertion(bst,3)\n",
    "# insertion(bst,1)\n",
    "# insertion(bst,4)\n",
    "# insertion(bst,9)\n",
    "# insertion(bst,2)\n",
    "# insertion(bst,7)\n",
    "# insertion(bst,5)"
   ]
  },
  {
   "cell_type": "markdown",
   "metadata": {},
   "source": [
    "## les parcours"
   ]
  },
  {
   "cell_type": "code",
   "execution_count": 6,
   "metadata": {},
   "outputs": [
    {
     "name": "stdout",
     "output_type": "stream",
     "text": [
      "1 2 3 4 5 6 7 8 9 \n",
      "\n",
      "6 3 1 2 4 5 8 7 9 \n",
      "\n",
      "2 1 5 4 3 7 9 8 6 \n",
      "\n"
     ]
    }
   ],
   "source": [
    "bst.parcours_infixe()\n",
    "print('\\n')\n",
    "bst.parcours_prefixe()\n",
    "print('\\n')\n",
    "bst.parcours_suffixe()\n",
    "print('\\n')\n"
   ]
  },
  {
   "cell_type": "markdown",
   "metadata": {},
   "source": [
    "   ## Exercices\n"
   ]
  },
  {
   "cell_type": "markdown",
   "metadata": {},
   "source": [
    "**Écrire un programme qui utilise une structure d’ABR pour trier une liste d’entier.**"
   ]
  },
  {
   "cell_type": "code",
   "execution_count": 20,
   "metadata": {},
   "outputs": [
    {
     "name": "stdout",
     "output_type": "stream",
     "text": [
      "[31, 64, 0, 90, 87, 47]\n",
      "\n",
      "\n",
      "0 31 47 64 87 90 "
     ]
    }
   ],
   "source": [
    "from random import randint\n",
    "\n",
    "# fonction tri de liste exercice 1\n",
    "def tri(L):\n",
    "    arbre=Noeud(L[0])\n",
    "    for i in range(1,len(L)):\n",
    "        arbre.insert(L[i])\n",
    "    arbre.parcours_infixe()\n",
    "    \n",
    "#tri d'une liste\n",
    "L=[randint(0,100) for i in range(6)]\n",
    "\n",
    "print(L)\n",
    "print('\\n')\n",
    "tri(L)"
   ]
  },
  {
   "cell_type": "markdown",
   "metadata": {},
   "source": [
    "**Écrire un programme qui utilise une structure d’ABR pour trouver le maximum d’une liste d’entier.**"
   ]
  },
  {
   "cell_type": "code",
   "execution_count": 21,
   "metadata": {},
   "outputs": [
    {
     "name": "stdout",
     "output_type": "stream",
     "text": [
      "90\n"
     ]
    }
   ],
   "source": [
    "# maximum \n",
    "def maximum(arbre):\n",
    "    if arbre:\n",
    "        if arbre.right==None:\n",
    "            return arbre.value\n",
    "        else:\n",
    "            return maximum(arbre.right)\n",
    "# création de l'arbre3 à partir de la liste précédente\n",
    "arbre3=Noeud(L[0])\n",
    "for i in range(1,len(L)):\n",
    "    arbre3.insert(L[i])\n",
    "print(maximum(arbre3))\n",
    "\n",
    "graphicarbre(arbre3)"
   ]
  },
  {
   "cell_type": "markdown",
   "metadata": {},
   "source": [
    "**Écrire un programme qui utilise une structure d’ABR pour trouver le minimum d’uneliste d’entier.**"
   ]
  },
  {
   "cell_type": "code",
   "execution_count": 22,
   "metadata": {},
   "outputs": [
    {
     "name": "stdout",
     "output_type": "stream",
     "text": [
      "0\n"
     ]
    }
   ],
   "source": [
    "# minimum\n",
    "def minimum(arbre):\n",
    "    if arbre:\n",
    "        if arbre.left==None:\n",
    "            return arbre.value\n",
    "        else:\n",
    "            return minimum(arbre.left)\n",
    "print(minimum(arbre3))\n",
    "\n",
    "graphicarbre(arbre3)"
   ]
  },
  {
   "cell_type": "markdown",
   "metadata": {},
   "source": [
    "**Écrire un programme qui utilise une structure d’ABR pour rechercher une valeur dans la liste:\n",
    "L=[’chat’,’chien’,’souris’,’araignée’,’crapaud’,’grenouille’,’lézard’,’zèbre’]**"
   ]
  },
  {
   "cell_type": "code",
   "execution_count": 23,
   "metadata": {},
   "outputs": [
    {
     "name": "stdout",
     "output_type": "stream",
     "text": [
      "True\n",
      "True\n",
      "False\n"
     ]
    }
   ],
   "source": [
    "# exercice 4\n",
    "# recherche dans l'arbre\n",
    "def cherche(arbre,valeur):\n",
    "    if arbre:\n",
    "        if valeur==arbre.value:\n",
    "            return True\n",
    "        elif valeur < arbre.value:\n",
    "            if arbre.left!=None:\n",
    "                return cherche(arbre.left,valeur)\n",
    "            else:\n",
    "                return False\n",
    "        elif valeur > arbre.value:\n",
    "            if arbre.right!=None:\n",
    "                return cherche(arbre.right,valeur)\n",
    "            else:\n",
    "                return False\n",
    "\n",
    "\n",
    "\n",
    "\n",
    "L2=['chien','chat','souris','araignée','crapaud','grenouille','lézard','zèbre']\n",
    "arbre2=Noeud(L2[0])\n",
    "for i in range(1,len(L2)):    \n",
    "    arbre2.insert(L2[i])\n",
    "\n",
    "print(cherche(arbre2,'araignée'))\n",
    "print(cherche(arbre2,'lézard'))\n",
    "print(cherche(arbre2,'lapin'))\n",
    "\n",
    "graphicarbre(arbre2)"
   ]
  },
  {
   "cell_type": "markdown",
   "metadata": {},
   "source": [
    "**Écrire un programme qui utilise une structure d’ABR pour trouver le chemin depuis la racine jusqu’à un noeud donné.**"
   ]
  },
  {
   "cell_type": "code",
   "execution_count": 24,
   "metadata": {},
   "outputs": [
    {
     "name": "stdout",
     "output_type": "stream",
     "text": [
      "['crapaud', 'souris', 'chien']\n",
      "['chien', 'souris', 'crapaud']\n"
     ]
    }
   ],
   "source": [
    "# exercice 5\n",
    "# fonction recherche2 ( pour renvoyer la valeur..)\n",
    "def cherche2(arbre,valeur):\n",
    "    if arbre:\n",
    "        if valeur==arbre.value:\n",
    "            return arbre\n",
    "        elif valeur < arbre.value:\n",
    "            if arbre.left!=None:\n",
    "                return cherche2(arbre.left,valeur)\n",
    "            else:\n",
    "                return False\n",
    "        elif valeur > arbre.value:\n",
    "            if arbre.right!=None:\n",
    "                return cherche2(arbre.right,valeur)\n",
    "            else:\n",
    "                return False\n",
    "# chemin \n",
    "def chemin(arbre,valeur):\n",
    "    liste=[]\n",
    "    if cherche(arbre,valeur)==True:\n",
    "        a=cherche2(arbre,valeur)\n",
    "        liste.append(a.value)\n",
    "        while a.parent!=None:\n",
    "            liste.append(a.parent.value)\n",
    "            a=a.parent\n",
    "    return liste\n",
    "L3=chemin(arbre2,'crapaud')\n",
    "print(L3)\n",
    "L3.reverse()\n",
    "print(L3)\n",
    "\n",
    "graphicarbre(arbre2)"
   ]
  },
  {
   "cell_type": "code",
   "execution_count": null,
   "metadata": {},
   "outputs": [],
   "source": []
  }
 ],
 "metadata": {
  "kernelspec": {
   "display_name": "Python 3",
   "language": "python",
   "name": "python3"
  },
  "language_info": {
   "codemirror_mode": {
    "name": "ipython",
    "version": 3
   },
   "file_extension": ".py",
   "mimetype": "text/x-python",
   "name": "python",
   "nbconvert_exporter": "python",
   "pygments_lexer": "ipython3",
   "version": "3.7.6"
  }
 },
 "nbformat": 4,
 "nbformat_minor": 4
}
