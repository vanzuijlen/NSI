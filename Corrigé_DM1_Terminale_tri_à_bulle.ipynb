{
 "cells": [
  {
   "cell_type": "markdown",
   "metadata": {},
   "source": [
    "# T-NSI - Corrigé du DM 1\n",
    "\n",
    "## Le tri à bulle"
   ]
  },
  {
   "cell_type": "code",
   "execution_count": 10,
   "metadata": {},
   "outputs": [
    {
     "name": "stdout",
     "output_type": "stream",
     "text": [
      "[10, 9, 8, 7, 6, 5, 4, 3, 2, 1, 0]\n",
      "étape : 1  ( déplacement du 10 )\n",
      "[9, 10, 8, 7, 6, 5, 4, 3, 2, 1, 0]\n",
      "[9, 8, 10, 7, 6, 5, 4, 3, 2, 1, 0]\n",
      "[9, 8, 7, 10, 6, 5, 4, 3, 2, 1, 0]\n",
      "[9, 8, 7, 6, 10, 5, 4, 3, 2, 1, 0]\n",
      "[9, 8, 7, 6, 5, 10, 4, 3, 2, 1, 0]\n",
      "[9, 8, 7, 6, 5, 4, 10, 3, 2, 1, 0]\n",
      "[9, 8, 7, 6, 5, 4, 3, 10, 2, 1, 0]\n",
      "[9, 8, 7, 6, 5, 4, 3, 2, 10, 1, 0]\n",
      "[9, 8, 7, 6, 5, 4, 3, 2, 1, 10, 0]\n",
      "[9, 8, 7, 6, 5, 4, 3, 2, 1, 0, 10]\n",
      "étape : 2  ( déplacement du 9 )\n",
      "[8, 9, 7, 6, 5, 4, 3, 2, 1, 0, 10]\n",
      "[8, 7, 9, 6, 5, 4, 3, 2, 1, 0, 10]\n",
      "[8, 7, 6, 9, 5, 4, 3, 2, 1, 0, 10]\n",
      "[8, 7, 6, 5, 9, 4, 3, 2, 1, 0, 10]\n",
      "[8, 7, 6, 5, 4, 9, 3, 2, 1, 0, 10]\n",
      "[8, 7, 6, 5, 4, 3, 9, 2, 1, 0, 10]\n",
      "[8, 7, 6, 5, 4, 3, 2, 9, 1, 0, 10]\n",
      "[8, 7, 6, 5, 4, 3, 2, 1, 9, 0, 10]\n",
      "[8, 7, 6, 5, 4, 3, 2, 1, 0, 9, 10]\n",
      "étape : 3  ( déplacement du 8 )\n",
      "[7, 8, 6, 5, 4, 3, 2, 1, 0, 9, 10]\n",
      "[7, 6, 8, 5, 4, 3, 2, 1, 0, 9, 10]\n",
      "[7, 6, 5, 8, 4, 3, 2, 1, 0, 9, 10]\n",
      "[7, 6, 5, 4, 8, 3, 2, 1, 0, 9, 10]\n",
      "[7, 6, 5, 4, 3, 8, 2, 1, 0, 9, 10]\n",
      "[7, 6, 5, 4, 3, 2, 8, 1, 0, 9, 10]\n",
      "[7, 6, 5, 4, 3, 2, 1, 8, 0, 9, 10]\n",
      "[7, 6, 5, 4, 3, 2, 1, 0, 8, 9, 10]\n",
      "étape : 4  ( déplacement du 7 )\n",
      "[6, 7, 5, 4, 3, 2, 1, 0, 8, 9, 10]\n",
      "[6, 5, 7, 4, 3, 2, 1, 0, 8, 9, 10]\n",
      "[6, 5, 4, 7, 3, 2, 1, 0, 8, 9, 10]\n",
      "[6, 5, 4, 3, 7, 2, 1, 0, 8, 9, 10]\n",
      "[6, 5, 4, 3, 2, 7, 1, 0, 8, 9, 10]\n",
      "[6, 5, 4, 3, 2, 1, 7, 0, 8, 9, 10]\n",
      "[6, 5, 4, 3, 2, 1, 0, 7, 8, 9, 10]\n",
      "étape : 5  ( déplacement du 6 )\n",
      "[5, 6, 4, 3, 2, 1, 0, 7, 8, 9, 10]\n",
      "[5, 4, 6, 3, 2, 1, 0, 7, 8, 9, 10]\n",
      "[5, 4, 3, 6, 2, 1, 0, 7, 8, 9, 10]\n",
      "[5, 4, 3, 2, 6, 1, 0, 7, 8, 9, 10]\n",
      "[5, 4, 3, 2, 1, 6, 0, 7, 8, 9, 10]\n",
      "[5, 4, 3, 2, 1, 0, 6, 7, 8, 9, 10]\n",
      "étape : 6  ( déplacement du 5 )\n",
      "[4, 5, 3, 2, 1, 0, 6, 7, 8, 9, 10]\n",
      "[4, 3, 5, 2, 1, 0, 6, 7, 8, 9, 10]\n",
      "[4, 3, 2, 5, 1, 0, 6, 7, 8, 9, 10]\n",
      "[4, 3, 2, 1, 5, 0, 6, 7, 8, 9, 10]\n",
      "[4, 3, 2, 1, 0, 5, 6, 7, 8, 9, 10]\n",
      "étape : 7  ( déplacement du 4 )\n",
      "[3, 4, 2, 1, 0, 5, 6, 7, 8, 9, 10]\n",
      "[3, 2, 4, 1, 0, 5, 6, 7, 8, 9, 10]\n",
      "[3, 2, 1, 4, 0, 5, 6, 7, 8, 9, 10]\n",
      "[3, 2, 1, 0, 4, 5, 6, 7, 8, 9, 10]\n",
      "étape : 8  ( déplacement du 3 )\n",
      "[2, 3, 1, 0, 4, 5, 6, 7, 8, 9, 10]\n",
      "[2, 1, 3, 0, 4, 5, 6, 7, 8, 9, 10]\n",
      "[2, 1, 0, 3, 4, 5, 6, 7, 8, 9, 10]\n",
      "étape : 9  ( déplacement du 2 )\n",
      "[1, 2, 0, 3, 4, 5, 6, 7, 8, 9, 10]\n",
      "[1, 0, 2, 3, 4, 5, 6, 7, 8, 9, 10]\n",
      "étape : 10  ( déplacement du 1 )\n",
      "[0, 1, 2, 3, 4, 5, 6, 7, 8, 9, 10]\n"
     ]
    },
    {
     "data": {
      "text/plain": [
       "[0, 1, 2, 3, 4, 5, 6, 7, 8, 9, 10]"
      ]
     },
     "execution_count": 10,
     "metadata": {},
     "output_type": "execute_result"
    }
   ],
   "source": [
    "def tri_bulle(L):\n",
    "    \"\"\" Cette fonction réalise un tri à bulle d'une liste d'entiers passée en paramètre\"\"\"\n",
    "    n=len(L)# nombre d'éléments de la liste\n",
    "    k=n-1 # indice du dernier élément de la liste\n",
    "    while k>0: # on boucle de k à 1\n",
    "        print(\"étape :\",len(L)-k, \" ( déplacement du\", k,\")\")\n",
    "        for i in range(k): # on boucle de 0 à k-1(compris)\n",
    "            if L[i]>L[i+1]: # échange si nécessaire\n",
    "                L[i],L[i+1]=L[i+1],L[i]\n",
    "                print(L) # pour voir qu'il s'agit bien d'un tri à bulle\n",
    "        k=k-1 # on diminue k de 1 (qui assure l'arrêt de la boucle while)\n",
    "    return L\n",
    "\n",
    "L1=[10,9,8,7,6,5,4,3,2,1,0]\n",
    "print(L1)\n",
    "tri_bulle(L1)"
   ]
  },
  {
   "cell_type": "code",
   "execution_count": null,
   "metadata": {},
   "outputs": [],
   "source": []
  }
 ],
 "metadata": {
  "kernelspec": {
   "display_name": "Python 3",
   "language": "python",
   "name": "python3"
  },
  "language_info": {
   "codemirror_mode": {
    "name": "ipython",
    "version": 3
   },
   "file_extension": ".py",
   "mimetype": "text/x-python",
   "name": "python",
   "nbconvert_exporter": "python",
   "pygments_lexer": "ipython3",
   "version": "3.7.6"
  }
 },
 "nbformat": 4,
 "nbformat_minor": 4
}
