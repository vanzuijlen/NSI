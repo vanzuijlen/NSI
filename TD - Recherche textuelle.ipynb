{
 "cells": [
  {
   "cell_type": "markdown",
   "metadata": {},
   "source": [
    "# TD - Recherche textuelle\n",
    "\n"
   ]
  },
  {
   "cell_type": "markdown",
   "metadata": {},
   "source": [
    "### Nom : "
   ]
  },
  {
   "cell_type": "markdown",
   "metadata": {},
   "source": [
    "## Introduction\n",
    "\n",
    "La plupart des applications comme celle sur laquelle vous lisez ces lignes, possèdent une fonction de recherche textuelle.\n",
    "\n",
    "En général pour y accèder on utilise la combinaison de touches CTRL + F\n",
    "\n",
    "Il est légitime en NSI de se demander comment cela fonctionne...\n",
    "\n",
    "L'objectif de ce TD est de construire des algorithmes de recherche textuelle, d'en comprendre les principes et de les comparer...\n",
    "\n",
    "Nous étudierons plus particulièrement l'algorithme de **Boyer-Moore**.\n",
    "\n",
    "Tout comme la plupart des applications, Python possède sa propre méthode de recherche, ce script affiche la présence ou non d'une occurence (mot) dans un texte (phrase) : "
   ]
  },
  {
   "cell_type": "code",
   "execution_count": null,
   "metadata": {
    "scrolled": true
   },
   "outputs": [],
   "source": [
    "phrase=\"Ceci n'est que la phrase qui nous sert d'exemple\"\n",
    "mot1=\"qui\"\n",
    "mot2=\"quiche\"\n",
    "\n",
    "print(mot1 in phrase)\n",
    "print(mot2 in phrase)"
   ]
  },
  {
   "cell_type": "markdown",
   "metadata": {},
   "source": [
    "Là encore, on peut se demander comment cela fonctionne..."
   ]
  },
  {
   "cell_type": "markdown",
   "metadata": {},
   "source": [
    "## Une approche \"naïve\"\n",
    "\n",
    "Les chaînes de caractères font parties des séquences, c'est à dire que chaque caractère est atteignable par son indice dans la chaîne.\n",
    "\n",
    "Par exemple :"
   ]
  },
  {
   "cell_type": "code",
   "execution_count": null,
   "metadata": {},
   "outputs": [],
   "source": [
    "# affiche le 3ème caractère de la chaîne\n",
    "print(phrase[2])\n",
    "# affiche le dernier\n",
    "print(phrase[-1])\n",
    "# affiche la longueur de la chaîne \n",
    "print(len(phrase))"
   ]
  },
  {
   "cell_type": "markdown",
   "metadata": {},
   "source": [
    "Pour savoir si un mot est dans une phrase, la méthode qui nous vient à l'esprit est la suivante:\n",
    "\n",
    "On parcourt le texte d'indice en indice depuis le début du texte en vérifiant à chaque pas si les lettres du mot coïncident.\n",
    "\n",
    "\n",
    "<pre>                      \n",
    "x\n",
    "Ceci n'est que la phrase qui nous sert d'exemple\n",
    "qui\n",
    "\n",
    " x\n",
    "Ceci n'est que la phrase qui nous sert d'exemple\n",
    " qui\n",
    " \n",
    "  x\n",
    "Ceci n'est que la phrase qui nous sert d'exemple\n",
    "  qui\n",
    "  \n",
    "  ...\n",
    "           oox\n",
    "Ceci n'est que la phrase qui nous sert d'exemple\n",
    "           qui\n",
    "  ...\n",
    "\n",
    "                         ooo\n",
    "Ceci n'est que la phrase qui nous sert d'exemple\n",
    "                         qui\n",
    "\n",
    "</pre>\n",
    "\n",
    "Fin de la recherche.\n",
    "\n",
    "\n",
    "Voici une fonction qui renvoie si une occurence est trouvée dans une phrase à partir d'un indice i.\n"
   ]
  },
  {
   "cell_type": "code",
   "execution_count": null,
   "metadata": {},
   "outputs": [],
   "source": [
    "def occurence(mot,texte,i):\n",
    "    \"\"\"Vérifie si une sous-chaîne apparaît en position i dans une chaîne.\"\"\"\n",
    "    m = len(mot)\n",
    "    p = 0\n",
    "    while p < m and mot[p] == texte[i + p]:\n",
    "        p += 1\n",
    "    return p == m\n"
   ]
  },
  {
   "cell_type": "markdown",
   "metadata": {},
   "source": [
    "### À faire 1 : \n",
    "\n",
    "*  Vérifier que occurence(mot1, phrase, 2) renvoie Faux.\n",
    "\n",
    "*  Pour quelle valeur de i occurence(mot1, phrase, i) renvoie Vrai ?\n",
    "\n",
    "***(double-cliquer dans la cellule pour ajouter vos réponses)***"
   ]
  },
  {
   "cell_type": "markdown",
   "metadata": {},
   "source": [
    "### À faire 2 : \n",
    "\n",
    "* Écrire une fonction recherche qui prend en paramètres un mot et un texte et qui renvoie l'indice où apparaît le mot dans le texte et \"occurence non trouvée\" si le mot n'est pas dans le texte. (On utilisera la fonction occurence donnée plus haut)\n",
    "\n",
    "* Appliquer cette fonction à la phrase2, qui représente une séquence d'un brin d'ADN, avec l'occurence 'CGGCAG'.(La fonction doit renvoyer 12)\n"
   ]
  },
  {
   "cell_type": "code",
   "execution_count": null,
   "metadata": {},
   "outputs": [],
   "source": [
    "phrase2=\"CAAGCGCACAAGACGCGGCAGACCTTCGTTATAGGCGATGATTTCGAACCTACTAGTGGGTCTCTTAGGCCGAGCGGTTCCGAGAGATAGTGAAAGATGGCTGGGCTGTGAAGGGAAGGAGTCGTGAAAGCGCGAACACGAGTGTGCGCAAGCGCAGCGCCTTAGTATGCTCCAGTGTAGAAGCTCCGGCGTCCCGTCTAACCGTACGCTGTCCCCGGTACATGGAGCTAATAGGCTTTACTGCCCAATATGACCCCGCGCCGCGACAAAACAATAACAGTTTGCTGTATGTTCCATGGTGGCCAATCCGTCTCTTTTCGACAGCACGGCCAATTCTCCTAGGAAGCCAGCTCAATTTCAACGAAGTCGGCTGTTGAACAGCGAGGTATGGCGTCGGTGGCTCTATTAGTGGTGAGCGAATTGAAATTCGGTGGCCTTACTTGTACCACAGCGATCCCTTCCCACCATTCTTATGCGTCGTCTGTTACCTGGCTTGGCAT\"\n",
    "mot3=\"ACG\"\n",
    "def recherche(mot,texte):\n",
    "    "
   ]
  },
  {
   "cell_type": "markdown",
   "metadata": {},
   "source": [
    "### À faire 3 : \n",
    "\n",
    "Modifier la fonction recherche(en recherches...) pour que cette fois-ci elle renvoie la liste des indices où apparaît le mot dans le texte.\n",
    "\n",
    "Pour phrase2 et mot3, vous devez obtenir : [12, 137, 205, 325, 360], ce qui signifie que le mot 'ACG' apparaît 5 fois. (aux indices indiqués dans la liste)"
   ]
  },
  {
   "cell_type": "code",
   "execution_count": null,
   "metadata": {},
   "outputs": [],
   "source": [
    "def recherches(mot,texte):\n",
    "    "
   ]
  },
  {
   "cell_type": "markdown",
   "metadata": {},
   "source": [
    "### Avec un texte un peu plus long\n",
    "\n",
    "Le fichier vh.txt contient le premier tome des misérables de Victor Hugo.\n",
    "\n",
    "*Il faut le placer dans le même dossier que ce notebook.*\n",
    "\n",
    "Le code ci-dessous mesure en seconde le temps d'exécution de 5 appels de la fonction recherches(mot,texte), pour le mot 'Valjean' et le texte 'tome1'.\n",
    "\n",
    "Vous devriez trouver une valeur entre 1,10 et 1,13 ...\n",
    "\n",
    "### À faire 4 :\n",
    "\n",
    "* Que signifie le 196  affiché ?"
   ]
  },
  {
   "cell_type": "code",
   "execution_count": null,
   "metadata": {},
   "outputs": [],
   "source": [
    "from timeit import default_timer as timer\n",
    "with open('vh.txt','r') as vh:\n",
    "    tome1 = vh.read()\n",
    "\n",
    "d=timer()\n",
    "for i in range(5):\n",
    "    print(len(recherches('Valjean',tome1)))   \n",
    "f=timer()\n",
    "print(f-d)"
   ]
  },
  {
   "cell_type": "markdown",
   "metadata": {},
   "source": [
    "## L'algorithme de Boyer - Moore"
   ]
  },
  {
   "cell_type": "markdown",
   "metadata": {},
   "source": [
    "Dans la méthode naïve, à chaque étape on se décale d'un cran vers la droite. C'est en \"jouant\" sur ce décalage que l'on peut améliorer la méthode.\n",
    "\n",
    "Le principe de l'algorithme de Boyer-Moore:\n",
    "\n",
    "Soit à rechercher l'occurence CGGCTG dans la séquence ATAACAGGAGTAAATAACGGCTGGAGTAAATA.\n",
    " \n",
    "On aligne et on **teste l'occurence par la droite**:\n",
    "\n",
    "<pre>\n",
    "     x\n",
    "CGGCTG\n",
    "ATAACAGGAGTAAATAACGGCTGGAGTAAATA\n",
    "</pre>\n",
    "Comme G et A ne correspondent pas et qu'il n'y a pas de A dans l'occurence on décale l'occurence de 6 rangs( la longueur de l'occurence).\n",
    "\n",
    "<pre>\n",
    "           x\n",
    "      CGGCTG\n",
    "ATAACAGGAGTAAATAACGGCTGGAGTAAATA\n",
    "</pre>\n",
    "\n",
    "On est dans une situation similaire, et en deux étapes on obtient ce que la méthode naïve aurait fait en 12 étapes!\n",
    "\n",
    "\n",
    "<pre>\n",
    "                 x\n",
    "            CGGCTG\n",
    "ATAACAGGAGTAAATAACGGCTGGAGTAAATA\n",
    "</pre>\n",
    "Dans cette situation, le G et le C ne correspondent pas mais il y a un C dans l'occurence, on décalera donc l'occurence de 2 rangs (place du premier C depuis la fin de l'occurence) \n",
    "\n",
    "On obtient donc :\n",
    "<pre>\n",
    "                  xo\n",
    "              CGGCTG\n",
    "ATAACAGGAGTAAATAACGGCTGGAGTAAATA\n",
    "</pre>\n",
    "Cette fois-ci les G correspondent puis T et G ne correspondent pas, or il y a un G(avant le T) dans l'occurence.\n",
    "\n",
    "On décale donc de 3 rangs.\n",
    "\n",
    "On obtient donc:\n",
    "<pre>\n",
    "                 oooooo\n",
    "                 CGGCTG\n",
    "ATAACAGGAGTAAATAACGGCTGGAGTAAATA\n",
    "</pre>\n",
    "On trouve une correspondance complète.\n",
    "\n",
    "Pour continuer la recherche il suffit de la relancer un rang plus loin...\n",
    "\n",
    "En appliquant à chaque étape un décalage adapté, on accélère grandement le processus."
   ]
  },
  {
   "cell_type": "markdown",
   "metadata": {},
   "source": [
    "## Une première fonction\n",
    "\n",
    "### À faire 4 :\n",
    "\n",
    "* Que fait la fonction ci-dessous \n",
    "* Expliquer la valeur de de la clé 'a'"
   ]
  },
  {
   "cell_type": "code",
   "execution_count": null,
   "metadata": {},
   "outputs": [],
   "source": [
    "def dico(mot):\n",
    "    dico={}\n",
    "    m=len(mot)\n",
    "    for i in range(m-1):\n",
    "        dico[mot[i]]=m-1-i\n",
    "    return dico\n",
    "\n",
    "dico(\"Valjean\")"
   ]
  },
  {
   "cell_type": "markdown",
   "metadata": {},
   "source": [
    "Votre explication :"
   ]
  },
  {
   "cell_type": "markdown",
   "metadata": {},
   "source": [
    "## L'algorithme\n",
    "\n",
    "Voici l'algorithme qui réalise le processus décrit plus haut :\n",
    "\n",
    "fonction boyer_moore(mot,texte):\n",
    "* n $\\longleftarrow$ longueur du texte\n",
    "* m $\\longleftarrow$longueur du mot\n",
    "* positions $\\longleftarrow$ [ ]\n",
    "* decalage $\\longleftarrow$ dico(mot)\n",
    "* i $\\longleftarrow$ 0\n",
    "* Tant que i $\\leq$ n - m:\n",
    "  * Pour j allant de m - 1 à 0 par pas de (-1) :\n",
    "      * Si texte[ i + j ] $\\neq$ mot[ j ]:\n",
    "          * Si texte[ i + j ] est une clé de decalage et que sa valeur est inférieure à j :\n",
    "              * i $\\longleftarrow$ i + decalage[ i + j ]\n",
    "          * Sinon :\n",
    "              * i $\\longleftarrow$ i + j + 1\n",
    "          * trouve $\\longleftarrow$ False\n",
    "          * break\n",
    "          \n",
    "      * Sinon :\n",
    "          * trouve $\\longleftarrow$ True\n",
    "           \n",
    "   * Si trouve est vrai :\n",
    "       * on ajoute i à positions\n",
    "       * i $\\longleftarrow$ i + 1\n",
    "       \n",
    "* renvoyer positions\n",
    "       \n"
   ]
  },
  {
   "cell_type": "markdown",
   "metadata": {},
   "source": [
    "### À faire 5 :\n",
    "\n",
    "* Implémenter cette fonction en commentant les différentes parties.\n",
    "* Appliquer le sur le texte de Victor Hugo avec le mot 'Valjean' pour vérifier son bon fonctionnement.\n",
    "* Faire afficher le temps d'exécution de 5 appels de la fonction boyer_moore. \n",
    "* Qu'en déduisez - vous ?\n",
    "\n"
   ]
  },
  {
   "cell_type": "code",
   "execution_count": null,
   "metadata": {},
   "outputs": [],
   "source": [
    "# votre programme\n",
    "def boyer_moore (mot, texte):\n",
    "    "
   ]
  },
  {
   "cell_type": "markdown",
   "metadata": {},
   "source": [
    " ### À faire 6 :\n",
    " \n",
    " * Reprendre la comparaison avec la recherche de l'occurence 'e'"
   ]
  },
  {
   "cell_type": "code",
   "execution_count": null,
   "metadata": {},
   "outputs": [],
   "source": [
    "# la recherche de 'e'"
   ]
  },
  {
   "cell_type": "markdown",
   "metadata": {},
   "source": [
    "# Conclusion\n",
    "\n",
    "L’algorithme de Boyer-Moore fut inventé en 1977. Il peut être encore amélioré avec plusieurs\n",
    "tables de saut, chacune correspondant au saut possible en fonction du caractère testé dans la\n",
    "clé. Cet ajout de table présente un intérêt pour les recherches avec une clé de taille\n",
    "importante."
   ]
  }
 ],
 "metadata": {
  "kernelspec": {
   "display_name": "Python 3",
   "language": "python",
   "name": "python3"
  },
  "language_info": {
   "codemirror_mode": {
    "name": "ipython",
    "version": 3
   },
   "file_extension": ".py",
   "mimetype": "text/x-python",
   "name": "python",
   "nbconvert_exporter": "python",
   "pygments_lexer": "ipython3",
   "version": "3.7.6"
  }
 },
 "nbformat": 4,
 "nbformat_minor": 4
}
